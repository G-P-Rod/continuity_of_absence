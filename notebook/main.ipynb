{
 "cells": [
  {
   "cell_type": "code",
   "execution_count": 2,
   "id": "d90f6176",
   "metadata": {},
   "outputs": [],
   "source": [
    "import pandas as pd\n",
    "import os"
   ]
  },
  {
   "cell_type": "code",
   "execution_count": 4,
   "id": "9e6f6622",
   "metadata": {},
   "outputs": [
    {
     "ename": "FileNotFoundError",
     "evalue": "[Errno 2] No such file or directory: 'C:\\\\Users\\\\Grzegorz\\\\Documents\\\\GitHub\\\\continuity_of_absence\\\\data\\\\raw\\\\data_per_day.xlsx'",
     "output_type": "error",
     "traceback": [
      "\u001b[1;31m---------------------------------------------------------------------------\u001b[0m",
      "\u001b[1;31mFileNotFoundError\u001b[0m                         Traceback (most recent call last)",
      "Input \u001b[1;32mIn [4]\u001b[0m, in \u001b[0;36m<cell line: 15>\u001b[1;34m()\u001b[0m\n\u001b[0;32m      9\u001b[0m destination_path \u001b[38;5;241m=\u001b[39mos\u001b[38;5;241m.\u001b[39mpath\u001b[38;5;241m.\u001b[39mjoin(parent_directory, \u001b[38;5;124m'\u001b[39m\u001b[38;5;124mdata\u001b[39m\u001b[38;5;124m'\u001b[39m, \u001b[38;5;124m'\u001b[39m\u001b[38;5;124mprocessed\u001b[39m\u001b[38;5;124m'\u001b[39m, \u001b[38;5;124m'\u001b[39m\u001b[38;5;124mcombine.xlsx\u001b[39m\u001b[38;5;124m'\u001b[39m)\n\u001b[0;32m     11\u001b[0m \u001b[38;5;66;03m# Get all .xlsx files in the source directory\u001b[39;00m\n\u001b[0;32m     12\u001b[0m \u001b[38;5;66;03m#file = glob.glob(os.path.join(source_path, \"*.xlsx\"))\u001b[39;00m\n\u001b[0;32m     13\u001b[0m \n\u001b[0;32m     14\u001b[0m \u001b[38;5;66;03m#Read the first .xlsx file\u001b[39;00m\n\u001b[1;32m---> 15\u001b[0m df \u001b[38;5;241m=\u001b[39m \u001b[43mpd\u001b[49m\u001b[38;5;241;43m.\u001b[39;49m\u001b[43mread_excel\u001b[49m\u001b[43m(\u001b[49m\u001b[43msource_path\u001b[49m\u001b[43m,\u001b[49m\u001b[43m \u001b[49m\u001b[43mindex_col\u001b[49m\u001b[38;5;241;43m=\u001b[39;49m\u001b[38;5;28;43;01mNone\u001b[39;49;00m\u001b[43m)\u001b[49m\n\u001b[0;32m     17\u001b[0m \u001b[38;5;66;03m#Variable for calculating the number of changes\u001b[39;00m\n\u001b[0;32m     18\u001b[0m raw_shape \u001b[38;5;241m=\u001b[39m df\u001b[38;5;241m.\u001b[39mshape\n",
      "File \u001b[1;32m~\\anaconda3\\lib\\site-packages\\pandas\\util\\_decorators.py:311\u001b[0m, in \u001b[0;36mdeprecate_nonkeyword_arguments.<locals>.decorate.<locals>.wrapper\u001b[1;34m(*args, **kwargs)\u001b[0m\n\u001b[0;32m    305\u001b[0m \u001b[38;5;28;01mif\u001b[39;00m \u001b[38;5;28mlen\u001b[39m(args) \u001b[38;5;241m>\u001b[39m num_allow_args:\n\u001b[0;32m    306\u001b[0m     warnings\u001b[38;5;241m.\u001b[39mwarn(\n\u001b[0;32m    307\u001b[0m         msg\u001b[38;5;241m.\u001b[39mformat(arguments\u001b[38;5;241m=\u001b[39marguments),\n\u001b[0;32m    308\u001b[0m         \u001b[38;5;167;01mFutureWarning\u001b[39;00m,\n\u001b[0;32m    309\u001b[0m         stacklevel\u001b[38;5;241m=\u001b[39mstacklevel,\n\u001b[0;32m    310\u001b[0m     )\n\u001b[1;32m--> 311\u001b[0m \u001b[38;5;28;01mreturn\u001b[39;00m func(\u001b[38;5;241m*\u001b[39margs, \u001b[38;5;241m*\u001b[39m\u001b[38;5;241m*\u001b[39mkwargs)\n",
      "File \u001b[1;32m~\\anaconda3\\lib\\site-packages\\pandas\\io\\excel\\_base.py:457\u001b[0m, in \u001b[0;36mread_excel\u001b[1;34m(io, sheet_name, header, names, index_col, usecols, squeeze, dtype, engine, converters, true_values, false_values, skiprows, nrows, na_values, keep_default_na, na_filter, verbose, parse_dates, date_parser, thousands, decimal, comment, skipfooter, convert_float, mangle_dupe_cols, storage_options)\u001b[0m\n\u001b[0;32m    455\u001b[0m \u001b[38;5;28;01mif\u001b[39;00m \u001b[38;5;129;01mnot\u001b[39;00m \u001b[38;5;28misinstance\u001b[39m(io, ExcelFile):\n\u001b[0;32m    456\u001b[0m     should_close \u001b[38;5;241m=\u001b[39m \u001b[38;5;28;01mTrue\u001b[39;00m\n\u001b[1;32m--> 457\u001b[0m     io \u001b[38;5;241m=\u001b[39m \u001b[43mExcelFile\u001b[49m\u001b[43m(\u001b[49m\u001b[43mio\u001b[49m\u001b[43m,\u001b[49m\u001b[43m \u001b[49m\u001b[43mstorage_options\u001b[49m\u001b[38;5;241;43m=\u001b[39;49m\u001b[43mstorage_options\u001b[49m\u001b[43m,\u001b[49m\u001b[43m \u001b[49m\u001b[43mengine\u001b[49m\u001b[38;5;241;43m=\u001b[39;49m\u001b[43mengine\u001b[49m\u001b[43m)\u001b[49m\n\u001b[0;32m    458\u001b[0m \u001b[38;5;28;01melif\u001b[39;00m engine \u001b[38;5;129;01mand\u001b[39;00m engine \u001b[38;5;241m!=\u001b[39m io\u001b[38;5;241m.\u001b[39mengine:\n\u001b[0;32m    459\u001b[0m     \u001b[38;5;28;01mraise\u001b[39;00m \u001b[38;5;167;01mValueError\u001b[39;00m(\n\u001b[0;32m    460\u001b[0m         \u001b[38;5;124m\"\u001b[39m\u001b[38;5;124mEngine should not be specified when passing \u001b[39m\u001b[38;5;124m\"\u001b[39m\n\u001b[0;32m    461\u001b[0m         \u001b[38;5;124m\"\u001b[39m\u001b[38;5;124man ExcelFile - ExcelFile already has the engine set\u001b[39m\u001b[38;5;124m\"\u001b[39m\n\u001b[0;32m    462\u001b[0m     )\n",
      "File \u001b[1;32m~\\anaconda3\\lib\\site-packages\\pandas\\io\\excel\\_base.py:1376\u001b[0m, in \u001b[0;36mExcelFile.__init__\u001b[1;34m(self, path_or_buffer, engine, storage_options)\u001b[0m\n\u001b[0;32m   1374\u001b[0m     ext \u001b[38;5;241m=\u001b[39m \u001b[38;5;124m\"\u001b[39m\u001b[38;5;124mxls\u001b[39m\u001b[38;5;124m\"\u001b[39m\n\u001b[0;32m   1375\u001b[0m \u001b[38;5;28;01melse\u001b[39;00m:\n\u001b[1;32m-> 1376\u001b[0m     ext \u001b[38;5;241m=\u001b[39m \u001b[43minspect_excel_format\u001b[49m\u001b[43m(\u001b[49m\n\u001b[0;32m   1377\u001b[0m \u001b[43m        \u001b[49m\u001b[43mcontent_or_path\u001b[49m\u001b[38;5;241;43m=\u001b[39;49m\u001b[43mpath_or_buffer\u001b[49m\u001b[43m,\u001b[49m\u001b[43m \u001b[49m\u001b[43mstorage_options\u001b[49m\u001b[38;5;241;43m=\u001b[39;49m\u001b[43mstorage_options\u001b[49m\n\u001b[0;32m   1378\u001b[0m \u001b[43m    \u001b[49m\u001b[43m)\u001b[49m\n\u001b[0;32m   1379\u001b[0m     \u001b[38;5;28;01mif\u001b[39;00m ext \u001b[38;5;129;01mis\u001b[39;00m \u001b[38;5;28;01mNone\u001b[39;00m:\n\u001b[0;32m   1380\u001b[0m         \u001b[38;5;28;01mraise\u001b[39;00m \u001b[38;5;167;01mValueError\u001b[39;00m(\n\u001b[0;32m   1381\u001b[0m             \u001b[38;5;124m\"\u001b[39m\u001b[38;5;124mExcel file format cannot be determined, you must specify \u001b[39m\u001b[38;5;124m\"\u001b[39m\n\u001b[0;32m   1382\u001b[0m             \u001b[38;5;124m\"\u001b[39m\u001b[38;5;124man engine manually.\u001b[39m\u001b[38;5;124m\"\u001b[39m\n\u001b[0;32m   1383\u001b[0m         )\n",
      "File \u001b[1;32m~\\anaconda3\\lib\\site-packages\\pandas\\io\\excel\\_base.py:1250\u001b[0m, in \u001b[0;36minspect_excel_format\u001b[1;34m(content_or_path, storage_options)\u001b[0m\n\u001b[0;32m   1247\u001b[0m \u001b[38;5;28;01mif\u001b[39;00m \u001b[38;5;28misinstance\u001b[39m(content_or_path, \u001b[38;5;28mbytes\u001b[39m):\n\u001b[0;32m   1248\u001b[0m     content_or_path \u001b[38;5;241m=\u001b[39m BytesIO(content_or_path)\n\u001b[1;32m-> 1250\u001b[0m \u001b[38;5;28;01mwith\u001b[39;00m \u001b[43mget_handle\u001b[49m\u001b[43m(\u001b[49m\n\u001b[0;32m   1251\u001b[0m \u001b[43m    \u001b[49m\u001b[43mcontent_or_path\u001b[49m\u001b[43m,\u001b[49m\u001b[43m \u001b[49m\u001b[38;5;124;43m\"\u001b[39;49m\u001b[38;5;124;43mrb\u001b[39;49m\u001b[38;5;124;43m\"\u001b[39;49m\u001b[43m,\u001b[49m\u001b[43m \u001b[49m\u001b[43mstorage_options\u001b[49m\u001b[38;5;241;43m=\u001b[39;49m\u001b[43mstorage_options\u001b[49m\u001b[43m,\u001b[49m\u001b[43m \u001b[49m\u001b[43mis_text\u001b[49m\u001b[38;5;241;43m=\u001b[39;49m\u001b[38;5;28;43;01mFalse\u001b[39;49;00m\n\u001b[0;32m   1252\u001b[0m \u001b[43m\u001b[49m\u001b[43m)\u001b[49m \u001b[38;5;28;01mas\u001b[39;00m handle:\n\u001b[0;32m   1253\u001b[0m     stream \u001b[38;5;241m=\u001b[39m handle\u001b[38;5;241m.\u001b[39mhandle\n\u001b[0;32m   1254\u001b[0m     stream\u001b[38;5;241m.\u001b[39mseek(\u001b[38;5;241m0\u001b[39m)\n",
      "File \u001b[1;32m~\\anaconda3\\lib\\site-packages\\pandas\\io\\common.py:798\u001b[0m, in \u001b[0;36mget_handle\u001b[1;34m(path_or_buf, mode, encoding, compression, memory_map, is_text, errors, storage_options)\u001b[0m\n\u001b[0;32m    789\u001b[0m         handle \u001b[38;5;241m=\u001b[39m \u001b[38;5;28mopen\u001b[39m(\n\u001b[0;32m    790\u001b[0m             handle,\n\u001b[0;32m    791\u001b[0m             ioargs\u001b[38;5;241m.\u001b[39mmode,\n\u001b[1;32m   (...)\u001b[0m\n\u001b[0;32m    794\u001b[0m             newline\u001b[38;5;241m=\u001b[39m\u001b[38;5;124m\"\u001b[39m\u001b[38;5;124m\"\u001b[39m,\n\u001b[0;32m    795\u001b[0m         )\n\u001b[0;32m    796\u001b[0m     \u001b[38;5;28;01melse\u001b[39;00m:\n\u001b[0;32m    797\u001b[0m         \u001b[38;5;66;03m# Binary mode\u001b[39;00m\n\u001b[1;32m--> 798\u001b[0m         handle \u001b[38;5;241m=\u001b[39m \u001b[38;5;28;43mopen\u001b[39;49m\u001b[43m(\u001b[49m\u001b[43mhandle\u001b[49m\u001b[43m,\u001b[49m\u001b[43m \u001b[49m\u001b[43mioargs\u001b[49m\u001b[38;5;241;43m.\u001b[39;49m\u001b[43mmode\u001b[49m\u001b[43m)\u001b[49m\n\u001b[0;32m    799\u001b[0m     handles\u001b[38;5;241m.\u001b[39mappend(handle)\n\u001b[0;32m    801\u001b[0m \u001b[38;5;66;03m# Convert BytesIO or file objects passed with an encoding\u001b[39;00m\n",
      "\u001b[1;31mFileNotFoundError\u001b[0m: [Errno 2] No such file or directory: 'C:\\\\Users\\\\Grzegorz\\\\Documents\\\\GitHub\\\\continuity_of_absence\\\\data\\\\raw\\\\data_per_day.xlsx'"
     ]
    }
   ],
   "source": [
    "\n",
    "#Get current and parent directory directory\n",
    "current_path = os.getcwd()\n",
    "parent_directory = os.path.dirname(current_path)\n",
    "\n",
    "#Create a path to the source folder where the raw data is located\n",
    "source_path = os.path.join(parent_directory, 'data', 'raw')\n",
    "\n",
    "#Create a path to the destination file\n",
    "destination_path =os.path.join(parent_directory, 'data', 'processed', 'combine.xlsx')\n",
    "\n",
    "# Get all .xlsx files in the source directory\n",
    "file = glob.glob(os.path.join(source_path, \"*.xlsx\"))\n",
    "\n",
    "#Read the first .xlsx file\n",
    "df = pd.read_excel(file[0], index_col=None)\n",
    "\n",
    "#Variable for calculating the number of changes\n",
    "raw_shape = df.shape\n",
    "\n",
    "display(df.head(10))"
   ]
  },
  {
   "cell_type": "code",
   "execution_count": 5,
   "id": "56b655d9",
   "metadata": {},
   "outputs": [
    {
     "ename": "NameError",
     "evalue": "name 'df' is not defined",
     "output_type": "error",
     "traceback": [
      "\u001b[1;31m---------------------------------------------------------------------------\u001b[0m",
      "\u001b[1;31mNameError\u001b[0m                                 Traceback (most recent call last)",
      "Input \u001b[1;32mIn [5]\u001b[0m, in \u001b[0;36m<cell line: 2>\u001b[1;34m()\u001b[0m\n\u001b[0;32m      1\u001b[0m \u001b[38;5;66;03m#sorting by key columns\u001b[39;00m\n\u001b[1;32m----> 2\u001b[0m df \u001b[38;5;241m=\u001b[39m \u001b[43mdf\u001b[49m\u001b[38;5;241m.\u001b[39msort_values([\u001b[38;5;124m'\u001b[39m\u001b[38;5;124mNumer osobowy\u001b[39m\u001b[38;5;124m'\u001b[39m,\u001b[38;5;124m'\u001b[39m\u001b[38;5;124mRodz. nieob./obecn.\u001b[39m\u001b[38;5;124m'\u001b[39m, \u001b[38;5;124m'\u001b[39m\u001b[38;5;124mData od\u001b[39m\u001b[38;5;124m'\u001b[39m])\n",
      "\u001b[1;31mNameError\u001b[0m: name 'df' is not defined"
     ]
    }
   ],
   "source": [
    "#sorting by key columns\n",
    "df = df.sort_values(['Numer osobowy','Rodz. nieob./obecn.', 'Data od'])"
   ]
  },
  {
   "cell_type": "code",
   "execution_count": 4,
   "id": "05610992",
   "metadata": {},
   "outputs": [],
   "source": [
    "# Define the 'combine_lines' function\n",
    "def combine_lines(df):\n",
    "    changes = 0\n",
    "    for i in range(0, len(df)-1):\n",
    "        if (i in df.index and \n",
    "            (i+1) in df.index and\n",
    "            df.loc[i, 'Numer osobowy'] == df.loc[i+1, 'Numer osobowy'] and\n",
    "            df.loc[i, 'Rodz. nieob./obecn.'] == df.loc[i+1, 'Rodz. nieob./obecn.'] and\n",
    "            df.loc[i, 'Data do'] == df.loc[i+1, 'Data od'] - pd.Timedelta(days=1)):\n",
    "\n",
    "            df.loc[i, 'Data do'] = df.loc[i+1, 'Data do']\n",
    "            df.loc[i, 'Godziny nieobecności'] += df.loc[i+1, 'Godziny nieobecności']\n",
    "            df.loc[i, 'Dni obecn./nieobecn.'] += df.loc[i+1, 'Dni obecn./nieobecn.']\n",
    "            df.loc[i, 'Dni kalendarzowe'] += df.loc[i+1, 'Dni kalendarzowe']\n",
    "            df.loc[i, 'Dokonano_złączenia'] = 'Tak'\n",
    "            df.drop(index=[i+1], inplace=True)\n",
    "            changes += 1\n",
    "    \n",
    "    return df, changes"
   ]
  },
  {
   "cell_type": "code",
   "execution_count": 5,
   "id": "f2d7961e",
   "metadata": {
    "scrolled": true
   },
   "outputs": [
    {
     "name": "stdout",
     "output_type": "stream",
     "text": [
      "Combine rows - from 24 to 8 rows.\n"
     ]
    },
    {
     "data": {
      "text/html": [
       "<div>\n",
       "<style scoped>\n",
       "    .dataframe tbody tr th:only-of-type {\n",
       "        vertical-align: middle;\n",
       "    }\n",
       "\n",
       "    .dataframe tbody tr th {\n",
       "        vertical-align: top;\n",
       "    }\n",
       "\n",
       "    .dataframe thead th {\n",
       "        text-align: right;\n",
       "    }\n",
       "</style>\n",
       "<table border=\"1\" class=\"dataframe\">\n",
       "  <thead>\n",
       "    <tr style=\"text-align: right;\">\n",
       "      <th></th>\n",
       "      <th>Numer osobowy</th>\n",
       "      <th>Rodz. nieob./obecn.</th>\n",
       "      <th>Nieobecność</th>\n",
       "      <th>Data od</th>\n",
       "      <th>Data do</th>\n",
       "      <th>Godziny nieobecności</th>\n",
       "      <th>Dni obecn./nieobecn.</th>\n",
       "      <th>Dni kalendarzowe</th>\n",
       "      <th>Dokonano_złączenia</th>\n",
       "    </tr>\n",
       "  </thead>\n",
       "  <tbody>\n",
       "    <tr>\n",
       "      <th>0</th>\n",
       "      <td>Osoba 1</td>\n",
       "      <td>NPZO</td>\n",
       "      <td>Op. Nad chor.Dzieck.</td>\n",
       "      <td>2023-03-06</td>\n",
       "      <td>2023-03-11</td>\n",
       "      <td>48</td>\n",
       "      <td>6</td>\n",
       "      <td>6</td>\n",
       "      <td>Tak</td>\n",
       "    </tr>\n",
       "    <tr>\n",
       "      <th>1</th>\n",
       "      <td>Osoba 1</td>\n",
       "      <td>UPZG</td>\n",
       "      <td>Płatny–MNiSzW z 12.10.06</td>\n",
       "      <td>2023-06-27</td>\n",
       "      <td>2023-07-14</td>\n",
       "      <td>112</td>\n",
       "      <td>14</td>\n",
       "      <td>16</td>\n",
       "      <td>Tak</td>\n",
       "    </tr>\n",
       "    <tr>\n",
       "      <th>2</th>\n",
       "      <td>Osoba 2</td>\n",
       "      <td>CHZ</td>\n",
       "      <td>Choroba zwykła</td>\n",
       "      <td>2023-03-20</td>\n",
       "      <td>2023-03-24</td>\n",
       "      <td>40</td>\n",
       "      <td>5</td>\n",
       "      <td>5</td>\n",
       "      <td>NaN</td>\n",
       "    </tr>\n",
       "    <tr>\n",
       "      <th>3</th>\n",
       "      <td>Osoba 2</td>\n",
       "      <td>CHZ</td>\n",
       "      <td>Choroba zwykła</td>\n",
       "      <td>2023-05-22</td>\n",
       "      <td>2023-06-02</td>\n",
       "      <td>80</td>\n",
       "      <td>10</td>\n",
       "      <td>10</td>\n",
       "      <td>Tak</td>\n",
       "    </tr>\n",
       "    <tr>\n",
       "      <th>4</th>\n",
       "      <td>Osoba 3</td>\n",
       "      <td>NPZO</td>\n",
       "      <td>Op. Nad chor.Dzieck.</td>\n",
       "      <td>2023-01-09</td>\n",
       "      <td>2023-12-04</td>\n",
       "      <td>248</td>\n",
       "      <td>31</td>\n",
       "      <td>32</td>\n",
       "      <td>Tak</td>\n",
       "    </tr>\n",
       "  </tbody>\n",
       "</table>\n",
       "</div>"
      ],
      "text/plain": [
       "  Numer osobowy Rodz. nieob./obecn.               Nieobecność    Data od  \\\n",
       "0       Osoba 1                NPZO      Op. Nad chor.Dzieck. 2023-03-06   \n",
       "1       Osoba 1                UPZG  Płatny–MNiSzW z 12.10.06 2023-06-27   \n",
       "2       Osoba 2                 CHZ            Choroba zwykła 2023-03-20   \n",
       "3       Osoba 2                 CHZ            Choroba zwykła 2023-05-22   \n",
       "4       Osoba 3                NPZO      Op. Nad chor.Dzieck. 2023-01-09   \n",
       "\n",
       "     Data do  Godziny nieobecności  Dni obecn./nieobecn.  Dni kalendarzowe  \\\n",
       "0 2023-03-11                    48                     6                 6   \n",
       "1 2023-07-14                   112                    14                16   \n",
       "2 2023-03-24                    40                     5                 5   \n",
       "3 2023-06-02                    80                    10                10   \n",
       "4 2023-12-04                   248                    31                32   \n",
       "\n",
       "  Dokonano_złączenia  \n",
       "0                Tak  \n",
       "1                Tak  \n",
       "2                NaN  \n",
       "3                Tak  \n",
       "4                Tak  "
      ]
     },
     "metadata": {},
     "output_type": "display_data"
    }
   ],
   "source": [
    "# Define the `__main__` block\n",
    "if __name__ == '__main__':\n",
    "    \n",
    "    #Total changes count\n",
    "    total_changes = 0\n",
    "    \n",
    "    #Iterate until no more changes are made on df\n",
    "    while True:\n",
    "        new_df, changes = combine_lines(df)\n",
    "\n",
    "        #Check if there are no more changes\n",
    "        if changes == 0:\n",
    "            break\n",
    "\n",
    "        # Update the total changes count and reset the df index, does not work properly without reset \n",
    "        total_changes += changes\n",
    "        df = new_df\n",
    "        df.reset_index(drop=True, inplace=True)\n",
    "#Print how many rows was and how many get\n",
    "print(f'Combine rows - from {raw_shape[0]} to {df.shape[0]} rows.')\n",
    "\n",
    "#Display what df looks like after the loop\n",
    "display(df.head(5))"
   ]
  },
  {
   "cell_type": "code",
   "execution_count": 6,
   "id": "1726ff6a",
   "metadata": {},
   "outputs": [],
   "source": [
    "#Convert columns to datetime format\n",
    "df['Data od'] = pd.to_datetime(df['Data od']).dt.date\n",
    "df['Data do'] = pd.to_datetime(df['Data do']).dt.date\n",
    "\n",
    "#Save the combined df to a .xlsx file\n",
    "df.to_excel(destination_path, index=False)"
   ]
  },
  {
   "cell_type": "code",
   "execution_count": null,
   "id": "52772dc9",
   "metadata": {},
   "outputs": [],
   "source": []
  }
 ],
 "metadata": {
  "kernelspec": {
   "display_name": "Python 3 (ipykernel)",
   "language": "python",
   "name": "python3"
  },
  "language_info": {
   "codemirror_mode": {
    "name": "ipython",
    "version": 3
   },
   "file_extension": ".py",
   "mimetype": "text/x-python",
   "name": "python",
   "nbconvert_exporter": "python",
   "pygments_lexer": "ipython3",
   "version": "3.9.12"
  }
 },
 "nbformat": 4,
 "nbformat_minor": 5
}
