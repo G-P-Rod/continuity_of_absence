{
 "cells": [
  {
   "cell_type": "code",
   "execution_count": null,
   "id": "d90f6176",
   "metadata": {},
   "outputs": [],
   "source": [
    "import pandas as pd\n",
    "import glob\n",
    "import os"
   ]
  },
  {
   "cell_type": "code",
   "execution_count": null,
   "id": "9e6f6622",
   "metadata": {},
   "outputs": [],
   "source": [
    "current_path = os.getcwd()\n",
    "parent_directory = os.path.dirname(current_path)\n",
    "source_path = os.path.join(parent_directory, 'data', 'raw')\n",
    "\n",
    "file = glob.glob(os.path.join(source_path, \"*.xlsx\"))\n",
    "\n",
    "df = pd.read_excel(file[0], index_col=None)"
   ]
  },
  {
   "cell_type": "code",
   "execution_count": null,
   "id": "56b655d9",
   "metadata": {},
   "outputs": [],
   "source": [
    "df = df.sort_values(['Numer osobowy','Rodz. nieob./obecn.', 'Data od'])\n",
    "\n",
    "df['Nowa_data_zakonczenia'] = df['Data do']\n",
    "df['Dokonano_złączenia'] = 0"
   ]
  },
  {
   "cell_type": "code",
   "execution_count": null,
   "id": "93d628c3",
   "metadata": {},
   "outputs": [],
   "source": [
    "for i in range(1, len(df)):\n",
    "    if (i+1 < len(df) and\n",
    "        df.loc[i, \"Numer osobowy\"] == df.loc[i+1, \"Numer osobowy\"] and\n",
    "        df.loc[i, \"Rodz. nieob./obecn.\"] == df.loc[i+1, \"Rodz. nieob./obecn.\"] and\n",
    "        df.loc[i, \"Data do\"] == df.loc[i+1, \"Data od\"] - pd.Timedelta(days=1)):\n",
    "        \n",
    "        df.loc[i, 'Nowa_data_zakonczenia'] = df.loc[i+1, 'Data do']\n",
    "        \n",
    "        df.loc[i, 'Data do'] = df.loc[i+1, 'Data do']\n",
    "        df.loc[i, 'Godziny nieobecności'] += df.loc[i+1, 'Godziny nieobecności']\n",
    "        df.loc[i, 'Dni obecn./nieobecn.'] += df.loc[i+1, 'Dni obecn./nieobecn.']\n",
    "        df.loc[i, 'Dni kalendarzowe'] += df.loc[i+1, 'Dni kalendarzowe']\n",
    "        df.loc[i, 'Dokonano_złączenia'] = 'Tak'\n",
    "        df.drop(index=[i+1], inplace=True)\n",
    "\n",
    "display(df.tail(20))"
   ]
  },
  {
   "cell_type": "code",
   "execution_count": null,
   "id": "ce2bc7ba",
   "metadata": {},
   "outputs": [],
   "source": []
  }
 ],
 "metadata": {
  "kernelspec": {
   "display_name": "Python 3 (ipykernel)",
   "language": "python",
   "name": "python3"
  },
  "language_info": {
   "codemirror_mode": {
    "name": "ipython",
    "version": 3
   },
   "file_extension": ".py",
   "mimetype": "text/x-python",
   "name": "python",
   "nbconvert_exporter": "python",
   "pygments_lexer": "ipython3",
   "version": "3.9.18"
  }
 },
 "nbformat": 4,
 "nbformat_minor": 5
}
